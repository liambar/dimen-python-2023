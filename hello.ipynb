{
 "cells": [
  {
   "cell_type": "code",
   "execution_count": 3,
   "metadata": {},
   "outputs": [
    {
     "name": "stdout",
     "output_type": "stream",
     "text": [
      "wagwan world\n"
     ]
    }
   ],
   "source": [
    "print(\"wagwan world\")"
   ]
  },
  {
   "cell_type": "code",
   "execution_count": 4,
   "metadata": {},
   "outputs": [
    {
     "name": "stderr",
     "output_type": "stream",
     "text": [
      "Bad pipe message: %s [b'C(\\x0c\\xa7d\\x8f\\xf7\\x13u\\x82\\x13\\xc7G']\n",
      "Bad pipe message: %s [b'<\\xac\\xfb .\\xed7\\x07\\xc1\\\\\\xc3\\xa8F\\xda\\xdb(_\\xc4\\xdc\\x13\\xbb\\x8bv\\xb1\\xfc\\x81\\x88\\xa5\\x8a,\\x11NW\\x9b\\xd2\\x11\\x00\\x08\\x13\\x02\\x13\\x03\\x13\\x01\\x00\\xff\\x01\\x00\\x00\\x8f\\x00\\x00\\x00\\x0e\\x00\\x0c\\x00\\x00\\t127.0.0.1\\x00\\x0b\\x00\\x04\\x03\\x00\\x01\\x02\\x00\\n\\x00\\x0c\\x00\\n\\x00\\x1d\\x00\\x17\\x00\\x1e\\x00\\x19\\x00\\x18\\x00#\\x00\\x00\\x00\\x16\\x00\\x00\\x00\\x17\\x00\\x00\\x00\\r\\x00\\x1e\\x00\\x1c\\x04\\x03\\x05\\x03\\x06\\x03\\x08\\x07\\x08\\x08\\x08\\t\\x08', b'\\x0b\\x08\\x04\\x08\\x05\\x08\\x06\\x04\\x01']\n",
      "Bad pipe message: %s [b\"n\\xe0D\\t\\x84\\x17\\xecY\\xc0\\xf4\\xbe\\x95\\x12\\x92\\x82ebo\\x00\\x00|\\xc0,\\xc00\\x00\\xa3\\x00\\x9f\\xcc\\xa9\\xcc\\xa8\\xcc\\xaa\\xc0\\xaf\\xc0\\xad\\xc0\\xa3\\xc0\\x9f\\xc0]\\xc0a\\xc0W\\xc0S\\xc0+\\xc0/\\x00\\xa2\\x00\\x9e\\xc0\\xae\\xc0\\xac\\xc0\\xa2\\xc0\\x9e\\xc0\\\\\\xc0`\\xc0V\\xc0R\\xc0$\\xc0(\\x00k\\x00j\\xc0#\\xc0'\\x00g\\x00@\\xc0\\n\\xc0\\x14\\x009\\x008\\xc0\\t\\xc0\\x13\\x003\\x002\\x00\\x9d\\xc0\\xa1\\xc0\\x9d\\xc0Q\\x00\\x9c\\xc0\\xa0\\xc0\\x9c\\xc0P\\x00=\\x00<\\x005\\x00/\\x00\\x9a\\x00\\x99\\xc0\\x07\\xc0\\x11\\x00\\x96\\x00\\x05\\x00\\xff\\x01\\x00\\x00j\\x00\\x00\\x00\\x0e\\x00\\x0c\\x00\\x00\\t127.0.0.1\\x00\\x0b\\x00\\x04\\x03\\x00\\x01\\x02\\x00\\n\\x00\\x0c\\x00\\n\\x00\\x1d\\x00\\x17\\x00\\x1e\\x00\\x19\\x00\\x18\\x00#\\x00\\x00\\x00\\x16\\x00\\x00\\x00\\x17\\x00\\x00\\x00\\r\\x000\\x00.\\x04\\x03\\x05\\x03\\x06\\x03\\x08\\x07\\x08\\x08\\x08\\t\\x08\\n\\x08\\x0b\\x08\\x04\\x08\\x05\\x08\\x06\\x04\\x01\\x05\\x01\\x06\\x01\"]\n",
      "Bad pipe message: %s [b'\\x02\\x03', b'\\x02\\x01', b'\\x02\\x02']\n",
      "Bad pipe message: %s [b'\\x05\\x02\\x06']\n",
      "Bad pipe message: %s [b',/\\xbc\\xe5g\\xf7}8t\\xd1\\xc4ll\\x06n3^\\xed\\x00\\x00\\xa6\\xc0,\\xc00\\x00\\xa3\\x00\\x9f\\xcc\\xa9\\xcc\\xa8\\xcc\\xaa\\xc0\\xaf\\xc0\\xad\\xc0\\xa3\\xc0\\x9f\\xc0]\\xc0a\\xc0W\\xc0S\\xc0+\\xc0/\\x00', b\"\\x9e\\xc0\\xae\\xc0\\xac\\xc0\\xa2\\xc0\\x9e\\xc0\\\\\\xc0`\\xc0V\\xc0R\\xc0$\\xc0(\\x00k\\x00j\\xc0s\\xc0w\\x00\\xc4\\x00\\xc3\\xc0#\\xc0'\\x00g\\x00@\\xc0r\\xc0v\\x00\\xbe\\x00\\xbd\\xc0\\n\\xc0\\x14\\x009\\x008\\x00\\x88\\x00\\x87\\xc0\\t\\xc0\\x13\\x003\\x002\\x00\\x9a\\x00\\x99\\x00E\\x00D\\xc0\\x07\\xc0\\x11\\xc0\\x08\\xc0\\x12\\x00\\x16\\x00\\x13\\x00\\x9d\\xc0\\xa1\\xc0\\x9d\\xc0Q\\x00\\x9c\\xc0\\xa0\\xc0\\x9c\\xc0P\\x00=\\x00\\xc0\\x00<\\x00\\xba\\x005\\x00\\x84\\x00/\\x00\\x96\\x00A\\x00\\x05\\x00\\n\\x00\\xff\\x01\\x00\\x00j\\x00\\x00\\x00\\x0e\\x00\\x0c\\x00\\x00\\t127.0.0.1\\x00\\x0b\\x00\\x04\\x03\\x00\\x01\\x02\\x00\\n\"]\n",
      "Bad pipe message: %s [b'\\x02\\xc0b\\xcc\\xf7\\x8b\\x17Ox\\xb0\\xb8c<\\xd9\\x1b_S2\\x00\\x00\\xa2\\xc0\\x14\\xc0\\n\\x009\\x008\\x007\\x006\\x00\\x88\\x00\\x87\\x00\\x86\\x00\\x85\\xc0\\x19\\x00:\\x00\\x89\\xc0\\x0f\\xc0\\x05\\x005\\x00\\x84\\xc0\\x13\\xc0\\t\\x003\\x002\\x001\\x000\\x00\\x9a\\x00\\x99\\x00\\x98\\x00\\x97\\x00E\\x00D\\x00C\\x00B\\xc0\\x18\\x004\\x00\\x9b\\x00F\\xc0\\x0e\\xc0\\x04\\x00/\\x00\\x96\\x00A\\x00\\x07\\xc0\\x11\\xc0\\x07\\xc0\\x16\\x00\\x18\\xc0\\x0c\\xc0\\x02\\x00\\x05\\x00\\x04\\xc0\\x12\\xc0\\x08\\x00\\x16\\x00\\x13\\x00\\x10\\x00\\r\\xc0\\x17\\x00\\x1b\\xc0\\r\\xc0\\x03\\x00\\n\\x00\\x15\\x00\\x12\\x00\\x0f\\x00\\x0c\\x00\\x1a\\x00\\t\\x00\\x14\\x00\\x11\\x00\\x19\\x00\\x08\\x00\\x06\\x00\\x17\\x00\\x03\\xc0\\x10\\xc0\\x06\\xc0\\x15\\xc0\\x0b\\xc0\\x01\\x00\\x02\\x00\\x01\\x00\\xff\\x02\\x01\\x00\\x00C\\x00\\x00\\x00\\x0e\\x00\\x0c\\x00\\x00\\t127.0.0.1\\x00\\x0b\\x00\\x04\\x03\\x00\\x01\\x02\\x00\\n\\x00\\x1c\\x00\\x1a\\x00\\x17\\x00\\x19\\x00\\x1c\\x00\\x1b\\x00\\x18\\x00\\x1a\\x00\\x16\\x00\\x0e\\x00\\r\\x00\\x0b']\n",
      "Bad pipe message: %s [b'\\x93\\x87\\xb4\\xc3\\x06\\xa4\\x0fU*O\\xc2\"+']\n",
      "Bad pipe message: %s [b'\\xc3\\x04A\\xc4\\xe1o\\xa1/!\\x7f\\x9e\\xba1\\xcc\\xca\\xd1N\\xa8\\x00\\x00\\x86\\xc00\\xc0,\\xc0(\\xc0$\\xc0\\x14\\xc0\\n\\x00\\xa5\\x00\\xa3\\x00\\xa1\\x00\\x9f\\x00k\\x00j\\x00i\\x00h\\x009\\x008\\x007\\x006\\xc02\\xc0.\\xc0*\\xc0&\\xc0\\x0f\\xc0\\x05\\x00\\x9d\\x00=\\x005\\xc0']\n",
      "Bad pipe message: %s [b\"+\\xc0'\\xc0#\\xc0\\x13\\xc0\\t\\x00\\xa4\\x00\\xa2\\x00\\xa0\\x00\\x9e\\x00g\\x00@\\x00?\\x00>\\x003\\x002\\x001\\x000\\xc01\\xc0-\\xc0)\\xc0%\\xc0\\x0e\\xc0\\x04\\x00\"]\n",
      "Bad pipe message: %s [b'S\\x8f$@c\\x9a\\xae;\\xbcL}\\xb3\\xf6\\x89\\x19\\xb2\\x0e\\xc5\\x00\\x00\\xf4\\xc00\\xc0,\\xc0(\\xc0$\\xc0\\x14\\xc0\\n\\x00\\xa5\\x00\\xa3\\x00\\xa1\\x00\\x9f\\x00k\\x00j\\x00i\\x00h\\x009\\x00']\n",
      "Bad pipe message: %s [b\"7\\x006\\x00\\x88\\x00\\x87\\x00\\x86\\x00\\x85\\xc0\\x19\\x00\\xa7\\x00m\\x00:\\x00\\x89\\xc02\\xc0.\\xc0*\\xc0&\\xc0\\x0f\\xc0\\x05\\x00\\x9d\\x00=\\x005\\x00\\x84\\xc0/\\xc0+\\xc0'\\xc0#\\xc0\\x13\\xc0\\t\\x00\\xa4\"]\n"
     ]
    }
   ],
   "source": [
    "test = 'hello'"
   ]
  },
  {
   "cell_type": "code",
   "execution_count": 5,
   "metadata": {},
   "outputs": [
    {
     "data": {
      "text/plain": [
       "str"
      ]
     },
     "execution_count": 5,
     "metadata": {},
     "output_type": "execute_result"
    }
   ],
   "source": [
    "type(test)"
   ]
  },
  {
   "cell_type": "code",
   "execution_count": 7,
   "metadata": {},
   "outputs": [],
   "source": [
    "number=10\n",
    "floaty=5.4"
   ]
  },
  {
   "cell_type": "code",
   "execution_count": 18,
   "metadata": {},
   "outputs": [
    {
     "data": {
      "text/plain": [
       "'liamliamliamliamliamliamliamliamliamliamliamliamliamliamliamliamliamliamliamliamliamliamliamliamliamliamliamliamliamliamliamliamliamliamliamliamliamliamliamliamliamliamliamliamliamliamliamliamliamliamliamliamliamliamliamliamliamliamliamliamliamliamliamliamliamliamliamliamliamliamliamliamliamliamliamliamliamliamliamliamliamliamliamliamliamliamliamliamliamliamliamliamliamliamliamliamliamliamliamliamliamliamliamliamliamliamliamliamliamliamliamliamliamliamliamliamliamliamliamliamliamliamliamliamliamliamliamliamliamliamliamliamliamliamliamliamliamliamliamliamliamliamliamliamliamliamliamliamliamliamliamliamliamliamliamliamliamliamliamliamliamliamliamliamliamliamliamliamliamliamliamliamliamliamliamliamliamliamliamliamliamliamliamliamliamliamliamliamliamliamliamliamliamliamliamliamliamliamliamliamliamliamliamliamliamliamliamliamliamliamliamliamliamliamliamliamliamliamliamliamliamliamliamliamliamliamliamliamliamliamliamliamliamliamliamliamliamliamliamliamliamliamliamliamliamliamliamliamliamliamliamliamliamliamliamliamliamliamliamliamliamliamliamliamliamliamliamliamliamliamliamliamliamliamliamliamliamliamliamliamliamliamliamliamliamliamliamliamliamliamliamliamliamliamliamliamliamliamliamliamliamliamliamliamliamliamliamliamliamliamliamliamliamliamliamliamliamliamliamliamliamliamliamliamliamliamliamliamliamliamliamliamliamliamliamliamliamliamliamliamliamliamliamliamliamliamliamliamliamliamliamliamliamliamliamliamliamliamliamliamliamliamliamliamliamliamliamliamliamliamliamliamliamliamliamliamliamliamliamliamliamliamliamliamliamliamliamliamliamliamliamliamliamliamliamliamliamliamliamliamliamliamliamliamliamliamliamliamliamliamliamliamliamliamliamliamliamliamliamliamliamliamliamliamliamliamliamliamliamliamliamliamliamliamliamliamliamliamliamliamliamliamliamliamliamliamliamliamliamliamliamliamliamliamliamliamliamliamliamliamliamliamliamliamliamliamliamliamliamliamliamliamliamliamliamliamliamliamliamliamliamliamliamliamliamliamliamliamliamliamliamliamliamliamliamliamliamliamliamliamliamliamliamliamliamliamliamliamliamliamliamliamliamliamliamliamliamliamliamliamliamliamliamliamliamliamliamliamliamliamliamliamliamliamliamliamliamliamliamliamliamliamliamliamliamliamliamliamliamliamliamliamliamliamliamliamliamliamliamliamliamliamliamliamliamliamliamliamliamliamliamliamliamliamliamliamliamliamliamliamliamliamliamliamliamliamliamliamliamliamliamliamliamliamliamliamliamliamliamliamliamliamliamliamliamliamliamliamliamliamliamliamliamliamliamliamliamliamliamliamliamliamliamliamliamliamliamliamliamliamliamliamliamliamliamliamliamliamliamliamliamliamliamliamliamliamliamliamliamliamliamliamliamliamliamliamliamliamliamliamliamliamliamliamliamliamliamliamliamliamliamliamliamliamliamliamliamliamliamliamliamliamliamliamliamliamliamliamliamliamliamliamliamliamliamliamliamliamliamliamliamliamliamliamliamliamliamliamliamliamliamliamliamliamliamliamliamliamliamliamliamliamliamliamliamliamliamliamliamliamliamliamliamliamliamliamliamliamliamliamliamliamliamliamliamliamliamliamliamliamliamliamliamliamliamliamliamliamliamliamliamliamliamliamliamliamliamliamliamliamliamliamliamliamliamliamliamliamliamliamliamliamliamliamliamliamliamliamliamliamliamliamliamliamliamliamliamliamliamliamliamliamliamliamliamliamliamliamliamliamliamliamliamliamliamliamliamliamliamliamliamliamliamliamliamliamliamliamliamliamliamliamliamliamliamliamliamliamliamliamliamliamliamliamliamliamliamliamliamliamliamliamliamliamliamliamliamliamliamliamliamliamliamliamliamliamliamliamliamliamliamliamliamliamliamliamliamliamliamliamliamliamliamliamliamliamliamliamliamliamliamliamliamliamliamliamliamliamliamliamliamliamliamliamliamliamliamliamliamliamliamliamliamliamliamliamliamliamliamliamliamliamliamliamliamliamliamliamliamliamliamliamliamliamliamliamliamliamliamliamliamliamliamliamliamliamliamliamliamliamliamliamliamliamliamliamliamliamliamliamliamliamliamliamliamliamliamliamliamliamliamliamliamliamliamliamliamliamliamliamliamliamliamliamliamliamliamliamliamliamliamliamliamliamliamliamliamliamliamliam'"
      ]
     },
     "execution_count": 18,
     "metadata": {},
     "output_type": "execute_result"
    }
   ],
   "source": [
    "\"liam\" * 1000"
   ]
  },
  {
   "attachments": {},
   "cell_type": "markdown",
   "metadata": {},
   "source": [
    "## python collections"
   ]
  },
  {
   "cell_type": "code",
   "execution_count": 3,
   "metadata": {},
   "outputs": [
    {
     "name": "stdout",
     "output_type": "stream",
     "text": [
      "[1, '2', 3.2]\n"
     ]
    }
   ],
   "source": [
    "#list ordered collection of bits of data\n",
    "my_list = [1,\"2\", 3.2]\n",
    "print(my_list)"
   ]
  },
  {
   "cell_type": "code",
   "execution_count": 6,
   "metadata": {},
   "outputs": [
    {
     "name": "stdout",
     "output_type": "stream",
     "text": [
      "[1, '2', 3.2]\n"
     ]
    }
   ],
   "source": [
    "print(my_list[0:])"
   ]
  },
  {
   "cell_type": "code",
   "execution_count": 9,
   "metadata": {},
   "outputs": [
    {
     "name": "stdout",
     "output_type": "stream",
     "text": [
      "1\n"
     ]
    }
   ],
   "source": [
    "my_dict = {'one': 1, 'two': 2, 'three': 3}\n",
    "print(my_dict['one'])"
   ]
  }
 ],
 "metadata": {
  "kernelspec": {
   "display_name": "Python 3",
   "language": "python",
   "name": "python3"
  },
  "language_info": {
   "codemirror_mode": {
    "name": "ipython",
    "version": 3
   },
   "file_extension": ".py",
   "mimetype": "text/x-python",
   "name": "python",
   "nbconvert_exporter": "python",
   "pygments_lexer": "ipython3",
   "version": "3.11.2"
  },
  "orig_nbformat": 4
 },
 "nbformat": 4,
 "nbformat_minor": 2
}
